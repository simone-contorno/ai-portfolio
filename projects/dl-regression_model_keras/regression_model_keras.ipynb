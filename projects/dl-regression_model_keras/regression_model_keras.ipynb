{
 "cells": [
  {
   "cell_type": "markdown",
   "id": "fd227aca-8361-43ea-8ecc-1d27d910efc0",
   "metadata": {},
   "source": [
    "<a href=\"https://cognitiveclass.ai\"><img src=\"https://cf-courses-data.s3.us.cloud-object-storage.appdomain.cloud/IBMDeveloperSkillsNetwork-DL0101EN-SkillsNetwork/images/IDSN-logo.png\" width=\"400\"> </a>\n",
    "\n",
    "<h1 align=center><font size = 5>Regression Models with Keras</font></h1>\n"
   ]
  },
  {
   "cell_type": "markdown",
   "id": "7641c6d4-2f72-477c-b304-814e14212e44",
   "metadata": {},
   "source": [
    "## Introduction\n"
   ]
  },
  {
   "cell_type": "markdown",
   "id": "9593cb53-0b1d-479f-84c2-f76c8e84fdce",
   "metadata": {},
   "source": [
    "As we discussed in the videos, despite the popularity of more powerful libraries such as PyToch and TensorFlow, they are not easy to use and have a steep learning curve. So, for people who are just starting to learn deep learning, there is no better library to use other than the Keras library. \n",
    "\n",
    "Keras is a high-level API for building deep learning models. It has gained favor for its ease of use and syntactic simplicity facilitating fast development. As you will see in this lab and the other labs in this course, building a very complex deep learning network can be achieved with Keras with only few lines of code. You will appreciate Keras even more, once you learn how to build deep models using PyTorch and TensorFlow in the other courses.\n",
    "\n",
    "So, in this lab, you will learn how to use the Keras library to build a regression model.\n"
   ]
  },
  {
   "cell_type": "markdown",
   "id": "ddfb4c62-aa2a-4387-acc9-401cf1372bab",
   "metadata": {},
   "source": [
    "<h2>Regression Models with Keras</h2>\n",
    "\n",
    "<h3>Objective for this Notebook<h3>    \n",
    "<h5> 1. How to use the Keras library to build a regression model.</h5>\n",
    "<h5> 2. Download and Clean dataset </h5>\n",
    "<h5> 3. Build a Neural Network </h5>\n",
    "<h5> 4. Train and Test the Network. </h5>     \n",
    "\n"
   ]
  },
  {
   "cell_type": "markdown",
   "id": "4ebe5ef5-e658-44dd-bc8e-80a4dc4559a8",
   "metadata": {},
   "source": [
    "## Table of Contents\n",
    "\n",
    "<div class=\"alert alert-block alert-info\" style=\"margin-top: 20px\">\n",
    "\n",
    "<font size = 3>\n",
    "    \n",
    "1. <a href=\"#item31\">Download and Clean Dataset</a>  \n",
    "2. <a href=\"#item32\">Import Keras</a>  \n",
    "3. <a href=\"#item33\">Build a Neural Network</a>  \n",
    "4. <a href=\"#item34\">Train and Test the Network</a>  \n",
    "\n",
    "</font>\n",
    "</div>\n"
   ]
  },
  {
   "cell_type": "markdown",
   "id": "59c3bc9e-4fdf-4ffe-aaf1-27e99ba2bcfe",
   "metadata": {},
   "source": [
    "## Download and Clean Dataset\n"
   ]
  },
  {
   "cell_type": "markdown",
   "id": "28e7cb02-0eba-4e08-b411-dd2c08c5c894",
   "metadata": {},
   "source": [
    "Let's start by importing the <em>pandas</em> and the Numpy libraries.\n"
   ]
  },
  {
   "cell_type": "code",
   "execution_count": 1,
   "id": "ce2c677e-9239-460e-bb41-8003063ce9f7",
   "metadata": {},
   "outputs": [],
   "source": [
    "import pandas as pd\n",
    "import numpy as np\n",
    "\n",
    "import warnings\n",
    "warnings.simplefilter('ignore', FutureWarning)"
   ]
  },
  {
   "cell_type": "markdown",
   "id": "63ae549e-5ccc-49ce-945d-fc3002294a1b",
   "metadata": {},
   "source": [
    "We will be playing around with the same dataset that we used in the videos.\n",
    "\n",
    "<strong>The dataset is about the compressive strength of different samples of concrete based on the volumes of the different ingredients that were used to make them. Ingredients include:</strong>\n",
    "\n",
    "<strong>1. Cement</strong>\n",
    "\n",
    "<strong>2. Blast Furnace Slag</strong>\n",
    "\n",
    "<strong>3. Fly Ash</strong>\n",
    "\n",
    "<strong>4. Water</strong>\n",
    "\n",
    "<strong>5. Superplasticizer</strong>\n",
    "\n",
    "<strong>6. Coarse Aggregate</strong>\n",
    "\n",
    "<strong>7. Fine Aggregate</strong>\n"
   ]
  },
  {
   "cell_type": "markdown",
   "id": "296a7166-be57-4ceb-a006-3d8e5950680c",
   "metadata": {},
   "source": [
    "Let's download the data and read it into a <em>pandas</em> dataframe.\n"
   ]
  },
  {
   "cell_type": "code",
   "execution_count": 2,
   "id": "4b61897d-4ec5-4bf6-a93d-d35c2350a565",
   "metadata": {},
   "outputs": [
    {
     "data": {
      "text/html": [
       "<div>\n",
       "<style scoped>\n",
       "    .dataframe tbody tr th:only-of-type {\n",
       "        vertical-align: middle;\n",
       "    }\n",
       "\n",
       "    .dataframe tbody tr th {\n",
       "        vertical-align: top;\n",
       "    }\n",
       "\n",
       "    .dataframe thead th {\n",
       "        text-align: right;\n",
       "    }\n",
       "</style>\n",
       "<table border=\"1\" class=\"dataframe\">\n",
       "  <thead>\n",
       "    <tr style=\"text-align: right;\">\n",
       "      <th></th>\n",
       "      <th>Cement</th>\n",
       "      <th>Blast Furnace Slag</th>\n",
       "      <th>Fly Ash</th>\n",
       "      <th>Water</th>\n",
       "      <th>Superplasticizer</th>\n",
       "      <th>Coarse Aggregate</th>\n",
       "      <th>Fine Aggregate</th>\n",
       "      <th>Age</th>\n",
       "      <th>Strength</th>\n",
       "    </tr>\n",
       "  </thead>\n",
       "  <tbody>\n",
       "    <tr>\n",
       "      <th>0</th>\n",
       "      <td>540.0</td>\n",
       "      <td>0.0</td>\n",
       "      <td>0.0</td>\n",
       "      <td>162.0</td>\n",
       "      <td>2.5</td>\n",
       "      <td>1040.0</td>\n",
       "      <td>676.0</td>\n",
       "      <td>28</td>\n",
       "      <td>79.99</td>\n",
       "    </tr>\n",
       "    <tr>\n",
       "      <th>1</th>\n",
       "      <td>540.0</td>\n",
       "      <td>0.0</td>\n",
       "      <td>0.0</td>\n",
       "      <td>162.0</td>\n",
       "      <td>2.5</td>\n",
       "      <td>1055.0</td>\n",
       "      <td>676.0</td>\n",
       "      <td>28</td>\n",
       "      <td>61.89</td>\n",
       "    </tr>\n",
       "    <tr>\n",
       "      <th>2</th>\n",
       "      <td>332.5</td>\n",
       "      <td>142.5</td>\n",
       "      <td>0.0</td>\n",
       "      <td>228.0</td>\n",
       "      <td>0.0</td>\n",
       "      <td>932.0</td>\n",
       "      <td>594.0</td>\n",
       "      <td>270</td>\n",
       "      <td>40.27</td>\n",
       "    </tr>\n",
       "    <tr>\n",
       "      <th>3</th>\n",
       "      <td>332.5</td>\n",
       "      <td>142.5</td>\n",
       "      <td>0.0</td>\n",
       "      <td>228.0</td>\n",
       "      <td>0.0</td>\n",
       "      <td>932.0</td>\n",
       "      <td>594.0</td>\n",
       "      <td>365</td>\n",
       "      <td>41.05</td>\n",
       "    </tr>\n",
       "    <tr>\n",
       "      <th>4</th>\n",
       "      <td>198.6</td>\n",
       "      <td>132.4</td>\n",
       "      <td>0.0</td>\n",
       "      <td>192.0</td>\n",
       "      <td>0.0</td>\n",
       "      <td>978.4</td>\n",
       "      <td>825.5</td>\n",
       "      <td>360</td>\n",
       "      <td>44.30</td>\n",
       "    </tr>\n",
       "  </tbody>\n",
       "</table>\n",
       "</div>"
      ],
      "text/plain": [
       "   Cement  Blast Furnace Slag  Fly Ash  ...  Fine Aggregate  Age  Strength\n",
       "0   540.0                 0.0      0.0  ...           676.0   28     79.99\n",
       "1   540.0                 0.0      0.0  ...           676.0   28     61.89\n",
       "2   332.5               142.5      0.0  ...           594.0  270     40.27\n",
       "3   332.5               142.5      0.0  ...           594.0  365     41.05\n",
       "4   198.6               132.4      0.0  ...           825.5  360     44.30\n",
       "\n",
       "[5 rows x 9 columns]"
      ]
     },
     "execution_count": 2,
     "metadata": {},
     "output_type": "execute_result"
    }
   ],
   "source": [
    "concrete_data = pd.read_csv('https://s3-api.us-geo.objectstorage.softlayer.net/cf-courses-data/CognitiveClass/DL0101EN/labs/data/concrete_data.csv')\n",
    "concrete_data.head()"
   ]
  },
  {
   "cell_type": "markdown",
   "id": "706bdfc7-091a-46cd-8f58-a4d3c6deebda",
   "metadata": {},
   "source": [
    "So the first concrete sample has 540 cubic meter of cement, 0 cubic meter of blast furnace slag, 0 cubic meter of fly ash, 162 cubic meter of water, 2.5 cubic meter of superplaticizer, 1040 cubic meter of coarse aggregate, 676 cubic meter of fine aggregate. Such a concrete mix which is 28 days old, has a compressive strength of 79.99 MPa. \n"
   ]
  },
  {
   "cell_type": "markdown",
   "id": "096653f3-f3cd-4501-a0ec-e97bcfd87c2e",
   "metadata": {},
   "source": [
    "#### Let's check how many data points we have.\n"
   ]
  },
  {
   "cell_type": "code",
   "execution_count": 3,
   "id": "407d8ca8-f344-4b12-8693-25f771c9bc49",
   "metadata": {},
   "outputs": [
    {
     "data": {
      "text/plain": [
       "(1030, 9)"
      ]
     },
     "execution_count": 3,
     "metadata": {},
     "output_type": "execute_result"
    }
   ],
   "source": [
    "concrete_data.shape"
   ]
  },
  {
   "cell_type": "markdown",
   "id": "869866b2-cdb5-44bb-8839-8f3040023e37",
   "metadata": {},
   "source": [
    "So, there are approximately 1000 samples to train our model on. Because of the few samples, we have to be careful not to overfit the training data.\n"
   ]
  },
  {
   "cell_type": "markdown",
   "id": "ed390578-bfe6-4aeb-855e-c9430b30d3f9",
   "metadata": {},
   "source": [
    "Let's check the dataset for any missing values.\n"
   ]
  },
  {
   "cell_type": "code",
   "execution_count": 4,
   "id": "a3895d7f-f484-452e-af11-2d02348e7ead",
   "metadata": {},
   "outputs": [
    {
     "data": {
      "text/html": [
       "<div>\n",
       "<style scoped>\n",
       "    .dataframe tbody tr th:only-of-type {\n",
       "        vertical-align: middle;\n",
       "    }\n",
       "\n",
       "    .dataframe tbody tr th {\n",
       "        vertical-align: top;\n",
       "    }\n",
       "\n",
       "    .dataframe thead th {\n",
       "        text-align: right;\n",
       "    }\n",
       "</style>\n",
       "<table border=\"1\" class=\"dataframe\">\n",
       "  <thead>\n",
       "    <tr style=\"text-align: right;\">\n",
       "      <th></th>\n",
       "      <th>Cement</th>\n",
       "      <th>Blast Furnace Slag</th>\n",
       "      <th>Fly Ash</th>\n",
       "      <th>Water</th>\n",
       "      <th>Superplasticizer</th>\n",
       "      <th>Coarse Aggregate</th>\n",
       "      <th>Fine Aggregate</th>\n",
       "      <th>Age</th>\n",
       "      <th>Strength</th>\n",
       "    </tr>\n",
       "  </thead>\n",
       "  <tbody>\n",
       "    <tr>\n",
       "      <th>count</th>\n",
       "      <td>1030.000000</td>\n",
       "      <td>1030.000000</td>\n",
       "      <td>1030.000000</td>\n",
       "      <td>1030.000000</td>\n",
       "      <td>1030.000000</td>\n",
       "      <td>1030.000000</td>\n",
       "      <td>1030.000000</td>\n",
       "      <td>1030.000000</td>\n",
       "      <td>1030.000000</td>\n",
       "    </tr>\n",
       "    <tr>\n",
       "      <th>mean</th>\n",
       "      <td>281.167864</td>\n",
       "      <td>73.895825</td>\n",
       "      <td>54.188350</td>\n",
       "      <td>181.567282</td>\n",
       "      <td>6.204660</td>\n",
       "      <td>972.918932</td>\n",
       "      <td>773.580485</td>\n",
       "      <td>45.662136</td>\n",
       "      <td>35.817961</td>\n",
       "    </tr>\n",
       "    <tr>\n",
       "      <th>std</th>\n",
       "      <td>104.506364</td>\n",
       "      <td>86.279342</td>\n",
       "      <td>63.997004</td>\n",
       "      <td>21.354219</td>\n",
       "      <td>5.973841</td>\n",
       "      <td>77.753954</td>\n",
       "      <td>80.175980</td>\n",
       "      <td>63.169912</td>\n",
       "      <td>16.705742</td>\n",
       "    </tr>\n",
       "    <tr>\n",
       "      <th>min</th>\n",
       "      <td>102.000000</td>\n",
       "      <td>0.000000</td>\n",
       "      <td>0.000000</td>\n",
       "      <td>121.800000</td>\n",
       "      <td>0.000000</td>\n",
       "      <td>801.000000</td>\n",
       "      <td>594.000000</td>\n",
       "      <td>1.000000</td>\n",
       "      <td>2.330000</td>\n",
       "    </tr>\n",
       "    <tr>\n",
       "      <th>25%</th>\n",
       "      <td>192.375000</td>\n",
       "      <td>0.000000</td>\n",
       "      <td>0.000000</td>\n",
       "      <td>164.900000</td>\n",
       "      <td>0.000000</td>\n",
       "      <td>932.000000</td>\n",
       "      <td>730.950000</td>\n",
       "      <td>7.000000</td>\n",
       "      <td>23.710000</td>\n",
       "    </tr>\n",
       "    <tr>\n",
       "      <th>50%</th>\n",
       "      <td>272.900000</td>\n",
       "      <td>22.000000</td>\n",
       "      <td>0.000000</td>\n",
       "      <td>185.000000</td>\n",
       "      <td>6.400000</td>\n",
       "      <td>968.000000</td>\n",
       "      <td>779.500000</td>\n",
       "      <td>28.000000</td>\n",
       "      <td>34.445000</td>\n",
       "    </tr>\n",
       "    <tr>\n",
       "      <th>75%</th>\n",
       "      <td>350.000000</td>\n",
       "      <td>142.950000</td>\n",
       "      <td>118.300000</td>\n",
       "      <td>192.000000</td>\n",
       "      <td>10.200000</td>\n",
       "      <td>1029.400000</td>\n",
       "      <td>824.000000</td>\n",
       "      <td>56.000000</td>\n",
       "      <td>46.135000</td>\n",
       "    </tr>\n",
       "    <tr>\n",
       "      <th>max</th>\n",
       "      <td>540.000000</td>\n",
       "      <td>359.400000</td>\n",
       "      <td>200.100000</td>\n",
       "      <td>247.000000</td>\n",
       "      <td>32.200000</td>\n",
       "      <td>1145.000000</td>\n",
       "      <td>992.600000</td>\n",
       "      <td>365.000000</td>\n",
       "      <td>82.600000</td>\n",
       "    </tr>\n",
       "  </tbody>\n",
       "</table>\n",
       "</div>"
      ],
      "text/plain": [
       "            Cement  Blast Furnace Slag  ...          Age     Strength\n",
       "count  1030.000000         1030.000000  ...  1030.000000  1030.000000\n",
       "mean    281.167864           73.895825  ...    45.662136    35.817961\n",
       "std     104.506364           86.279342  ...    63.169912    16.705742\n",
       "min     102.000000            0.000000  ...     1.000000     2.330000\n",
       "25%     192.375000            0.000000  ...     7.000000    23.710000\n",
       "50%     272.900000           22.000000  ...    28.000000    34.445000\n",
       "75%     350.000000          142.950000  ...    56.000000    46.135000\n",
       "max     540.000000          359.400000  ...   365.000000    82.600000\n",
       "\n",
       "[8 rows x 9 columns]"
      ]
     },
     "execution_count": 4,
     "metadata": {},
     "output_type": "execute_result"
    }
   ],
   "source": [
    "concrete_data.describe()"
   ]
  },
  {
   "cell_type": "code",
   "execution_count": 5,
   "id": "a58da867-e4c0-47a8-8602-fa4f79e87a08",
   "metadata": {},
   "outputs": [
    {
     "data": {
      "text/plain": [
       "Cement                0\n",
       "Blast Furnace Slag    0\n",
       "Fly Ash               0\n",
       "Water                 0\n",
       "Superplasticizer      0\n",
       "Coarse Aggregate      0\n",
       "Fine Aggregate        0\n",
       "Age                   0\n",
       "Strength              0\n",
       "dtype: int64"
      ]
     },
     "execution_count": 5,
     "metadata": {},
     "output_type": "execute_result"
    }
   ],
   "source": [
    "concrete_data.isnull().sum()"
   ]
  },
  {
   "cell_type": "markdown",
   "id": "28ddc0de-4d50-46f6-abdd-7bcefef73cb6",
   "metadata": {},
   "source": [
    "The data looks very clean and is ready to be used to build our model.\n"
   ]
  },
  {
   "cell_type": "markdown",
   "id": "3b687177-09f6-4a4c-b33f-941f3384f531",
   "metadata": {},
   "source": [
    "#### Split data into predictors and target\n"
   ]
  },
  {
   "cell_type": "markdown",
   "id": "b3ad8be4-a0ce-4c7d-b10a-fcfa92dc1988",
   "metadata": {},
   "source": [
    "The target variable in this problem is the concrete sample strength. Therefore, our predictors will be all the other columns.\n"
   ]
  },
  {
   "cell_type": "code",
   "execution_count": 6,
   "id": "d7e34bc0-4049-47ed-9d7c-7165c6ed0b44",
   "metadata": {},
   "outputs": [],
   "source": [
    "concrete_data_columns = concrete_data.columns\n",
    "\n",
    "predictors = concrete_data[concrete_data_columns[concrete_data_columns != 'Strength']] # all columns except Strength\n",
    "target = concrete_data['Strength'] # Strength column"
   ]
  },
  {
   "cell_type": "markdown",
   "id": "7173a729-3550-4995-8b98-9a07778c3049",
   "metadata": {},
   "source": [
    "Let's do a quick sanity check of the predictors and the target dataframes.\n"
   ]
  },
  {
   "cell_type": "code",
   "execution_count": 7,
   "id": "f9a88559-09f4-43d0-9845-798f805f1119",
   "metadata": {},
   "outputs": [
    {
     "data": {
      "text/html": [
       "<div>\n",
       "<style scoped>\n",
       "    .dataframe tbody tr th:only-of-type {\n",
       "        vertical-align: middle;\n",
       "    }\n",
       "\n",
       "    .dataframe tbody tr th {\n",
       "        vertical-align: top;\n",
       "    }\n",
       "\n",
       "    .dataframe thead th {\n",
       "        text-align: right;\n",
       "    }\n",
       "</style>\n",
       "<table border=\"1\" class=\"dataframe\">\n",
       "  <thead>\n",
       "    <tr style=\"text-align: right;\">\n",
       "      <th></th>\n",
       "      <th>Cement</th>\n",
       "      <th>Blast Furnace Slag</th>\n",
       "      <th>Fly Ash</th>\n",
       "      <th>Water</th>\n",
       "      <th>Superplasticizer</th>\n",
       "      <th>Coarse Aggregate</th>\n",
       "      <th>Fine Aggregate</th>\n",
       "      <th>Age</th>\n",
       "    </tr>\n",
       "  </thead>\n",
       "  <tbody>\n",
       "    <tr>\n",
       "      <th>0</th>\n",
       "      <td>540.0</td>\n",
       "      <td>0.0</td>\n",
       "      <td>0.0</td>\n",
       "      <td>162.0</td>\n",
       "      <td>2.5</td>\n",
       "      <td>1040.0</td>\n",
       "      <td>676.0</td>\n",
       "      <td>28</td>\n",
       "    </tr>\n",
       "    <tr>\n",
       "      <th>1</th>\n",
       "      <td>540.0</td>\n",
       "      <td>0.0</td>\n",
       "      <td>0.0</td>\n",
       "      <td>162.0</td>\n",
       "      <td>2.5</td>\n",
       "      <td>1055.0</td>\n",
       "      <td>676.0</td>\n",
       "      <td>28</td>\n",
       "    </tr>\n",
       "    <tr>\n",
       "      <th>2</th>\n",
       "      <td>332.5</td>\n",
       "      <td>142.5</td>\n",
       "      <td>0.0</td>\n",
       "      <td>228.0</td>\n",
       "      <td>0.0</td>\n",
       "      <td>932.0</td>\n",
       "      <td>594.0</td>\n",
       "      <td>270</td>\n",
       "    </tr>\n",
       "    <tr>\n",
       "      <th>3</th>\n",
       "      <td>332.5</td>\n",
       "      <td>142.5</td>\n",
       "      <td>0.0</td>\n",
       "      <td>228.0</td>\n",
       "      <td>0.0</td>\n",
       "      <td>932.0</td>\n",
       "      <td>594.0</td>\n",
       "      <td>365</td>\n",
       "    </tr>\n",
       "    <tr>\n",
       "      <th>4</th>\n",
       "      <td>198.6</td>\n",
       "      <td>132.4</td>\n",
       "      <td>0.0</td>\n",
       "      <td>192.0</td>\n",
       "      <td>0.0</td>\n",
       "      <td>978.4</td>\n",
       "      <td>825.5</td>\n",
       "      <td>360</td>\n",
       "    </tr>\n",
       "  </tbody>\n",
       "</table>\n",
       "</div>"
      ],
      "text/plain": [
       "   Cement  Blast Furnace Slag  Fly Ash  ...  Coarse Aggregate  Fine Aggregate  Age\n",
       "0   540.0                 0.0      0.0  ...            1040.0           676.0   28\n",
       "1   540.0                 0.0      0.0  ...            1055.0           676.0   28\n",
       "2   332.5               142.5      0.0  ...             932.0           594.0  270\n",
       "3   332.5               142.5      0.0  ...             932.0           594.0  365\n",
       "4   198.6               132.4      0.0  ...             978.4           825.5  360\n",
       "\n",
       "[5 rows x 8 columns]"
      ]
     },
     "execution_count": 7,
     "metadata": {},
     "output_type": "execute_result"
    }
   ],
   "source": [
    "predictors.head()"
   ]
  },
  {
   "cell_type": "code",
   "execution_count": 8,
   "id": "17fe5f47-6136-4a09-b558-f3705c9aeb1b",
   "metadata": {},
   "outputs": [
    {
     "data": {
      "text/plain": [
       "0    79.99\n",
       "1    61.89\n",
       "2    40.27\n",
       "3    41.05\n",
       "4    44.30\n",
       "Name: Strength, dtype: float64"
      ]
     },
     "execution_count": 8,
     "metadata": {},
     "output_type": "execute_result"
    }
   ],
   "source": [
    "target.head()"
   ]
  },
  {
   "cell_type": "markdown",
   "id": "a2641570-5693-4ac8-9887-582da313d466",
   "metadata": {},
   "source": [
    "Finally, the last step is to normalize the data by substracting the mean and dividing by the standard deviation.\n"
   ]
  },
  {
   "cell_type": "code",
   "execution_count": 9,
   "id": "82807e29-a97d-4f2e-8c05-552c149990db",
   "metadata": {},
   "outputs": [
    {
     "data": {
      "text/html": [
       "<div>\n",
       "<style scoped>\n",
       "    .dataframe tbody tr th:only-of-type {\n",
       "        vertical-align: middle;\n",
       "    }\n",
       "\n",
       "    .dataframe tbody tr th {\n",
       "        vertical-align: top;\n",
       "    }\n",
       "\n",
       "    .dataframe thead th {\n",
       "        text-align: right;\n",
       "    }\n",
       "</style>\n",
       "<table border=\"1\" class=\"dataframe\">\n",
       "  <thead>\n",
       "    <tr style=\"text-align: right;\">\n",
       "      <th></th>\n",
       "      <th>Cement</th>\n",
       "      <th>Blast Furnace Slag</th>\n",
       "      <th>Fly Ash</th>\n",
       "      <th>Water</th>\n",
       "      <th>Superplasticizer</th>\n",
       "      <th>Coarse Aggregate</th>\n",
       "      <th>Fine Aggregate</th>\n",
       "      <th>Age</th>\n",
       "    </tr>\n",
       "  </thead>\n",
       "  <tbody>\n",
       "    <tr>\n",
       "      <th>0</th>\n",
       "      <td>2.476712</td>\n",
       "      <td>-0.856472</td>\n",
       "      <td>-0.846733</td>\n",
       "      <td>-0.916319</td>\n",
       "      <td>-0.620147</td>\n",
       "      <td>0.862735</td>\n",
       "      <td>-1.217079</td>\n",
       "      <td>-0.279597</td>\n",
       "    </tr>\n",
       "    <tr>\n",
       "      <th>1</th>\n",
       "      <td>2.476712</td>\n",
       "      <td>-0.856472</td>\n",
       "      <td>-0.846733</td>\n",
       "      <td>-0.916319</td>\n",
       "      <td>-0.620147</td>\n",
       "      <td>1.055651</td>\n",
       "      <td>-1.217079</td>\n",
       "      <td>-0.279597</td>\n",
       "    </tr>\n",
       "    <tr>\n",
       "      <th>2</th>\n",
       "      <td>0.491187</td>\n",
       "      <td>0.795140</td>\n",
       "      <td>-0.846733</td>\n",
       "      <td>2.174405</td>\n",
       "      <td>-1.038638</td>\n",
       "      <td>-0.526262</td>\n",
       "      <td>-2.239829</td>\n",
       "      <td>3.551340</td>\n",
       "    </tr>\n",
       "    <tr>\n",
       "      <th>3</th>\n",
       "      <td>0.491187</td>\n",
       "      <td>0.795140</td>\n",
       "      <td>-0.846733</td>\n",
       "      <td>2.174405</td>\n",
       "      <td>-1.038638</td>\n",
       "      <td>-0.526262</td>\n",
       "      <td>-2.239829</td>\n",
       "      <td>5.055221</td>\n",
       "    </tr>\n",
       "    <tr>\n",
       "      <th>4</th>\n",
       "      <td>-0.790075</td>\n",
       "      <td>0.678079</td>\n",
       "      <td>-0.846733</td>\n",
       "      <td>0.488555</td>\n",
       "      <td>-1.038638</td>\n",
       "      <td>0.070492</td>\n",
       "      <td>0.647569</td>\n",
       "      <td>4.976069</td>\n",
       "    </tr>\n",
       "  </tbody>\n",
       "</table>\n",
       "</div>"
      ],
      "text/plain": [
       "     Cement  Blast Furnace Slag  ...  Fine Aggregate       Age\n",
       "0  2.476712           -0.856472  ...       -1.217079 -0.279597\n",
       "1  2.476712           -0.856472  ...       -1.217079 -0.279597\n",
       "2  0.491187            0.795140  ...       -2.239829  3.551340\n",
       "3  0.491187            0.795140  ...       -2.239829  5.055221\n",
       "4 -0.790075            0.678079  ...        0.647569  4.976069\n",
       "\n",
       "[5 rows x 8 columns]"
      ]
     },
     "execution_count": 9,
     "metadata": {},
     "output_type": "execute_result"
    }
   ],
   "source": [
    "predictors_norm = (predictors - predictors.mean()) / predictors.std()\n",
    "predictors_norm.head()"
   ]
  },
  {
   "cell_type": "markdown",
   "id": "02b08228-7a39-4a4c-bae2-87d0c334a3f6",
   "metadata": {},
   "source": [
    "Let's save the number of predictors to *n_cols* since we will need this number when building our network.\n"
   ]
  },
  {
   "cell_type": "code",
   "execution_count": 10,
   "id": "6d27243a-845f-46e5-beb6-6dc13d5ef396",
   "metadata": {},
   "outputs": [
    {
     "data": {
      "text/plain": [
       "8"
      ]
     },
     "execution_count": 10,
     "metadata": {},
     "output_type": "execute_result"
    }
   ],
   "source": [
    "n_cols = predictors_norm.shape[1] # number of predictors\n",
    "n_cols"
   ]
  },
  {
   "cell_type": "markdown",
   "id": "c9929027-4615-476f-a668-a0f547ae1006",
   "metadata": {},
   "source": [
    "## Import Keras\n"
   ]
  },
  {
   "cell_type": "markdown",
   "id": "588a2d81-cbb5-497e-bba4-b040e72ff483",
   "metadata": {},
   "source": [
    "Recall from the videos that Keras normally runs on top of a low-level library such as TensorFlow. This means that to be able to use the Keras library, you will have to install TensorFlow first and when you import the Keras library, it will be explicitly displayed what backend was used to install the Keras library. In CC Labs, we used TensorFlow as the backend to install Keras, so it should clearly print that when we import Keras.\n"
   ]
  },
  {
   "cell_type": "markdown",
   "id": "9fb19682-655b-40e8-afd4-d67cf643c321",
   "metadata": {},
   "source": [
    "#### Let's go ahead and import the Keras library\n"
   ]
  },
  {
   "cell_type": "code",
   "execution_count": 11,
   "id": "b5c62820-c6c3-44fc-ae0c-28684be4e40b",
   "metadata": {},
   "outputs": [],
   "source": [
    "import keras"
   ]
  },
  {
   "cell_type": "markdown",
   "id": "982ee5d4-c918-44cf-8ac4-bf68c080a979",
   "metadata": {},
   "source": [
    "As you can see, the TensorFlow backend was used to install the Keras library.\n"
   ]
  },
  {
   "cell_type": "markdown",
   "id": "ff242bc9-8e7a-44ef-85da-85a742dbfc2d",
   "metadata": {},
   "source": [
    "Let's import the rest of the packages from the Keras library that we will need to build our regressoin model.\n"
   ]
  },
  {
   "cell_type": "code",
   "execution_count": 12,
   "id": "40129e19-105f-4a6e-a560-496b68f7cbb7",
   "metadata": {},
   "outputs": [],
   "source": [
    "from keras.models import Sequential\n",
    "from keras.layers import Dense, Input"
   ]
  },
  {
   "cell_type": "markdown",
   "id": "a4639365-bfab-41c6-aa8d-e5b6fd205f09",
   "metadata": {},
   "source": [
    "## Build a Neural Network\n"
   ]
  },
  {
   "cell_type": "markdown",
   "id": "6740b923-eaae-4576-945e-2da8559fd447",
   "metadata": {},
   "source": [
    "Let's define a function that defines our regression model for us so that we can conveniently call it to create our model.\n"
   ]
  },
  {
   "cell_type": "code",
   "execution_count": 13,
   "id": "435477bf-6e18-49f1-aa37-bc8f3a3c4d9e",
   "metadata": {},
   "outputs": [],
   "source": [
    "# define regression model\n",
    "def regression_model():\n",
    "    # create model\n",
    "    model = Sequential()\n",
    "    model.add(Input(shape=(n_cols,)))\n",
    "    model.add(Dense(50, activation='relu'))\n",
    "    model.add(Dense(50, activation='relu'))\n",
    "    model.add(Dense(1))\n",
    "    \n",
    "    # compile model\n",
    "    model.compile(optimizer='adam', loss='mean_squared_error')\n",
    "    return model"
   ]
  },
  {
   "cell_type": "markdown",
   "id": "90c19b9e-1000-4d77-bdaf-fa5b3374c754",
   "metadata": {},
   "source": [
    "The above function create a model that has two hidden layers, each of 50 hidden units.\n"
   ]
  },
  {
   "cell_type": "markdown",
   "id": "6d818d59-a527-45d4-ae4b-3426b21475ad",
   "metadata": {},
   "source": [
    "## Train and Test the Network\n"
   ]
  },
  {
   "cell_type": "markdown",
   "id": "6877952a-9cff-4e91-8a8a-eaf75e4bf198",
   "metadata": {},
   "source": [
    "Let's call the function now to create our model.\n"
   ]
  },
  {
   "cell_type": "code",
   "execution_count": 14,
   "id": "02b2bfdf-c12c-4148-ab34-f5f83f950568",
   "metadata": {},
   "outputs": [],
   "source": [
    "# build the model\n",
    "model = regression_model()"
   ]
  },
  {
   "cell_type": "markdown",
   "id": "08b8f32c-e879-4cc7-9504-82996b9ab84f",
   "metadata": {},
   "source": [
    "Next, we will train and test the model at the same time using the *fit* method. We will leave out 30% of the data for validation and we will train the model for 100 epochs.\n"
   ]
  },
  {
   "cell_type": "code",
   "execution_count": 15,
   "id": "99d48a19-e989-4759-902e-036b49f840d4",
   "metadata": {},
   "outputs": [
    {
     "name": "stdout",
     "output_type": "stream",
     "text": [
      "Epoch 1/100\n",
      "23/23 - 1s - 56ms/step - loss: 1653.7905 - val_loss: 1159.9360\n",
      "Epoch 2/100\n",
      "23/23 - 0s - 6ms/step - loss: 1526.4648 - val_loss: 1041.0897\n",
      "Epoch 3/100\n",
      "23/23 - 0s - 6ms/step - loss: 1306.2484 - val_loss: 847.8036\n",
      "Epoch 4/100\n",
      "23/23 - 0s - 7ms/step - loss: 969.1200 - val_loss: 600.4442\n",
      "Epoch 5/100\n",
      "23/23 - 0s - 7ms/step - loss: 593.1036 - val_loss: 376.7156\n",
      "Epoch 6/100\n",
      "23/23 - 0s - 8ms/step - loss: 330.1683 - val_loss: 241.3634\n",
      "Epoch 7/100\n",
      "23/23 - 0s - 7ms/step - loss: 243.2871 - val_loss: 197.0028\n",
      "Epoch 8/100\n",
      "23/23 - 0s - 7ms/step - loss: 220.3296 - val_loss: 186.2605\n",
      "Epoch 9/100\n",
      "23/23 - 0s - 6ms/step - loss: 207.8189 - val_loss: 178.3442\n",
      "Epoch 10/100\n",
      "23/23 - 0s - 6ms/step - loss: 197.3131 - val_loss: 174.1476\n",
      "Epoch 11/100\n",
      "23/23 - 0s - 6ms/step - loss: 188.8645 - val_loss: 169.9317\n",
      "Epoch 12/100\n",
      "23/23 - 0s - 6ms/step - loss: 182.4524 - val_loss: 167.7551\n",
      "Epoch 13/100\n",
      "23/23 - 0s - 6ms/step - loss: 176.6834 - val_loss: 164.4639\n",
      "Epoch 14/100\n",
      "23/23 - 0s - 7ms/step - loss: 172.1978 - val_loss: 165.3762\n",
      "Epoch 15/100\n",
      "23/23 - 0s - 6ms/step - loss: 167.2004 - val_loss: 165.1874\n",
      "Epoch 16/100\n",
      "23/23 - 0s - 6ms/step - loss: 163.5558 - val_loss: 164.1554\n",
      "Epoch 17/100\n",
      "23/23 - 0s - 6ms/step - loss: 160.0909 - val_loss: 163.9862\n",
      "Epoch 18/100\n",
      "23/23 - 0s - 6ms/step - loss: 157.4256 - val_loss: 164.2367\n",
      "Epoch 19/100\n",
      "23/23 - 0s - 6ms/step - loss: 155.4041 - val_loss: 164.1368\n",
      "Epoch 20/100\n",
      "23/23 - 0s - 5ms/step - loss: 152.7907 - val_loss: 163.8772\n",
      "Epoch 21/100\n",
      "23/23 - 0s - 5ms/step - loss: 150.9471 - val_loss: 165.3313\n",
      "Epoch 22/100\n",
      "23/23 - 0s - 5ms/step - loss: 149.1358 - val_loss: 163.8202\n",
      "Epoch 23/100\n",
      "23/23 - 0s - 6ms/step - loss: 147.3222 - val_loss: 163.4126\n",
      "Epoch 24/100\n",
      "23/23 - 0s - 6ms/step - loss: 145.6996 - val_loss: 165.2922\n",
      "Epoch 25/100\n",
      "23/23 - 0s - 6ms/step - loss: 144.6718 - val_loss: 165.3151\n",
      "Epoch 26/100\n",
      "23/23 - 0s - 6ms/step - loss: 142.5744 - val_loss: 167.0289\n",
      "Epoch 27/100\n",
      "23/23 - 0s - 6ms/step - loss: 140.9520 - val_loss: 165.6523\n",
      "Epoch 28/100\n",
      "23/23 - 0s - 8ms/step - loss: 139.3459 - val_loss: 167.1948\n",
      "Epoch 29/100\n",
      "23/23 - 0s - 6ms/step - loss: 137.8150 - val_loss: 166.9700\n",
      "Epoch 30/100\n",
      "23/23 - 0s - 6ms/step - loss: 136.4675 - val_loss: 166.6205\n",
      "Epoch 31/100\n",
      "23/23 - 0s - 6ms/step - loss: 135.7176 - val_loss: 167.7462\n",
      "Epoch 32/100\n",
      "23/23 - 0s - 6ms/step - loss: 134.3848 - val_loss: 168.9763\n",
      "Epoch 33/100\n",
      "23/23 - 0s - 8ms/step - loss: 131.8562 - val_loss: 169.5746\n",
      "Epoch 34/100\n",
      "23/23 - 0s - 7ms/step - loss: 130.6855 - val_loss: 168.0978\n",
      "Epoch 35/100\n",
      "23/23 - 0s - 7ms/step - loss: 129.3335 - val_loss: 168.1362\n",
      "Epoch 36/100\n",
      "23/23 - 0s - 6ms/step - loss: 128.0944 - val_loss: 168.9888\n",
      "Epoch 37/100\n",
      "23/23 - 0s - 6ms/step - loss: 126.8656 - val_loss: 169.8215\n",
      "Epoch 38/100\n",
      "23/23 - 0s - 6ms/step - loss: 126.0136 - val_loss: 167.9190\n",
      "Epoch 39/100\n",
      "23/23 - 0s - 6ms/step - loss: 124.8523 - val_loss: 168.5494\n",
      "Epoch 40/100\n",
      "23/23 - 0s - 6ms/step - loss: 122.7855 - val_loss: 171.3404\n",
      "Epoch 41/100\n",
      "23/23 - 0s - 6ms/step - loss: 122.0345 - val_loss: 166.8664\n",
      "Epoch 42/100\n",
      "23/23 - 0s - 6ms/step - loss: 120.7195 - val_loss: 167.4201\n",
      "Epoch 43/100\n",
      "23/23 - 0s - 6ms/step - loss: 119.1926 - val_loss: 167.8132\n",
      "Epoch 44/100\n",
      "23/23 - 0s - 6ms/step - loss: 118.0158 - val_loss: 166.5998\n",
      "Epoch 45/100\n",
      "23/23 - 0s - 6ms/step - loss: 117.1716 - val_loss: 165.7960\n",
      "Epoch 46/100\n",
      "23/23 - 0s - 6ms/step - loss: 114.7970 - val_loss: 163.4063\n",
      "Epoch 47/100\n",
      "23/23 - 0s - 6ms/step - loss: 113.3564 - val_loss: 164.3209\n",
      "Epoch 48/100\n",
      "23/23 - 0s - 5ms/step - loss: 111.6378 - val_loss: 165.1595\n",
      "Epoch 49/100\n",
      "23/23 - 0s - 5ms/step - loss: 110.4138 - val_loss: 162.0369\n",
      "Epoch 50/100\n",
      "23/23 - 0s - 6ms/step - loss: 107.9493 - val_loss: 154.9153\n",
      "Epoch 51/100\n",
      "23/23 - 0s - 5ms/step - loss: 106.6625 - val_loss: 159.8851\n",
      "Epoch 52/100\n",
      "23/23 - 0s - 6ms/step - loss: 105.0306 - val_loss: 158.7650\n",
      "Epoch 53/100\n",
      "23/23 - 0s - 6ms/step - loss: 103.3041 - val_loss: 161.4299\n",
      "Epoch 54/100\n",
      "23/23 - 0s - 6ms/step - loss: 100.4420 - val_loss: 154.8963\n",
      "Epoch 55/100\n",
      "23/23 - 0s - 6ms/step - loss: 99.2983 - val_loss: 158.5185\n",
      "Epoch 56/100\n",
      "23/23 - 0s - 6ms/step - loss: 97.0206 - val_loss: 160.3010\n",
      "Epoch 57/100\n",
      "23/23 - 0s - 6ms/step - loss: 95.4865 - val_loss: 159.4428\n",
      "Epoch 58/100\n",
      "23/23 - 0s - 6ms/step - loss: 93.8213 - val_loss: 150.5350\n",
      "Epoch 59/100\n",
      "23/23 - 0s - 6ms/step - loss: 91.3925 - val_loss: 152.0569\n",
      "Epoch 60/100\n",
      "23/23 - 0s - 6ms/step - loss: 88.9563 - val_loss: 154.0922\n",
      "Epoch 61/100\n",
      "23/23 - 0s - 6ms/step - loss: 87.2083 - val_loss: 148.5247\n",
      "Epoch 62/100\n",
      "23/23 - 0s - 6ms/step - loss: 84.6200 - val_loss: 153.0840\n",
      "Epoch 63/100\n",
      "23/23 - 0s - 6ms/step - loss: 82.6405 - val_loss: 149.5935\n",
      "Epoch 64/100\n",
      "23/23 - 0s - 6ms/step - loss: 80.9655 - val_loss: 150.3302\n",
      "Epoch 65/100\n",
      "23/23 - 0s - 6ms/step - loss: 78.4114 - val_loss: 142.1636\n",
      "Epoch 66/100\n",
      "23/23 - 0s - 6ms/step - loss: 75.8467 - val_loss: 149.2769\n",
      "Epoch 67/100\n",
      "23/23 - 0s - 6ms/step - loss: 74.1420 - val_loss: 143.5042\n",
      "Epoch 68/100\n",
      "23/23 - 0s - 6ms/step - loss: 72.3256 - val_loss: 150.6585\n",
      "Epoch 69/100\n",
      "23/23 - 0s - 6ms/step - loss: 70.4992 - val_loss: 143.2969\n",
      "Epoch 70/100\n",
      "23/23 - 0s - 6ms/step - loss: 67.7405 - val_loss: 150.7004\n",
      "Epoch 71/100\n",
      "23/23 - 0s - 6ms/step - loss: 65.6004 - val_loss: 141.1871\n",
      "Epoch 72/100\n",
      "23/23 - 0s - 6ms/step - loss: 63.1780 - val_loss: 145.5018\n",
      "Epoch 73/100\n",
      "23/23 - 0s - 6ms/step - loss: 61.0421 - val_loss: 140.7946\n",
      "Epoch 74/100\n",
      "23/23 - 0s - 6ms/step - loss: 60.2078 - val_loss: 158.3180\n",
      "Epoch 75/100\n",
      "23/23 - 0s - 6ms/step - loss: 58.4649 - val_loss: 131.8530\n",
      "Epoch 76/100\n",
      "23/23 - 0s - 6ms/step - loss: 56.2694 - val_loss: 145.5502\n",
      "Epoch 77/100\n",
      "23/23 - 0s - 6ms/step - loss: 54.2531 - val_loss: 131.5623\n",
      "Epoch 78/100\n",
      "23/23 - 0s - 6ms/step - loss: 53.0303 - val_loss: 142.2300\n",
      "Epoch 79/100\n",
      "23/23 - 0s - 6ms/step - loss: 51.8286 - val_loss: 143.7776\n",
      "Epoch 80/100\n",
      "23/23 - 0s - 6ms/step - loss: 51.0585 - val_loss: 130.5730\n",
      "Epoch 81/100\n",
      "23/23 - 0s - 6ms/step - loss: 49.7378 - val_loss: 149.5365\n",
      "Epoch 82/100\n",
      "23/23 - 0s - 6ms/step - loss: 48.4821 - val_loss: 134.9283\n",
      "Epoch 83/100\n",
      "23/23 - 0s - 6ms/step - loss: 47.5647 - val_loss: 129.5380\n",
      "Epoch 84/100\n",
      "23/23 - 0s - 7ms/step - loss: 47.1748 - val_loss: 141.7040\n",
      "Epoch 85/100\n",
      "23/23 - 0s - 6ms/step - loss: 45.8765 - val_loss: 136.1297\n",
      "Epoch 86/100\n",
      "23/23 - 0s - 6ms/step - loss: 45.1012 - val_loss: 143.7211\n",
      "Epoch 87/100\n",
      "23/23 - 0s - 6ms/step - loss: 44.5708 - val_loss: 137.7772\n",
      "Epoch 88/100\n",
      "23/23 - 0s - 6ms/step - loss: 43.5323 - val_loss: 141.9408\n",
      "Epoch 89/100\n",
      "23/23 - 0s - 6ms/step - loss: 42.5434 - val_loss: 143.2289\n",
      "Epoch 90/100\n",
      "23/23 - 0s - 6ms/step - loss: 42.2065 - val_loss: 141.6754\n",
      "Epoch 91/100\n",
      "23/23 - 0s - 6ms/step - loss: 41.1027 - val_loss: 130.7099\n",
      "Epoch 92/100\n",
      "23/23 - 0s - 6ms/step - loss: 40.5305 - val_loss: 142.9412\n",
      "Epoch 93/100\n",
      "23/23 - 0s - 6ms/step - loss: 40.3744 - val_loss: 144.9737\n",
      "Epoch 94/100\n",
      "23/23 - 0s - 6ms/step - loss: 40.0918 - val_loss: 145.1783\n",
      "Epoch 95/100\n",
      "23/23 - 0s - 6ms/step - loss: 38.7859 - val_loss: 147.0074\n",
      "Epoch 96/100\n",
      "23/23 - 0s - 6ms/step - loss: 39.3442 - val_loss: 135.2665\n",
      "Epoch 97/100\n",
      "23/23 - 0s - 6ms/step - loss: 38.2817 - val_loss: 134.2057\n",
      "Epoch 98/100\n",
      "23/23 - 0s - 6ms/step - loss: 38.9456 - val_loss: 142.7874\n",
      "Epoch 99/100\n",
      "23/23 - 0s - 6ms/step - loss: 37.2714 - val_loss: 137.8153\n",
      "Epoch 100/100\n",
      "23/23 - 0s - 6ms/step - loss: 36.9238 - val_loss: 153.4270\n"
     ]
    },
    {
     "data": {
      "text/plain": [
       "<keras.src.callbacks.history.History at 0x25792bc1490>"
      ]
     },
     "execution_count": 15,
     "metadata": {},
     "output_type": "execute_result"
    }
   ],
   "source": [
    "# fit the model\n",
    "model.fit(predictors_norm, target, validation_split=0.3, epochs=100, verbose=2)"
   ]
  },
  {
   "cell_type": "markdown",
   "id": "677f1102-75e3-4457-9ab4-9f2a2a3acfa4",
   "metadata": {},
   "source": [
    "Feel free to vary the following and note what impact each change has on the model's performance:\n",
    "\n",
    "1. Increase or decreate number of neurons in hidden layers\n",
    "2. Add more hidden layers\n",
    "3. Increase number of epochs\n"
   ]
  },
  {
   "cell_type": "markdown",
   "id": "4fd87bbf-ebb6-4d05-9043-438ff41ce73b",
   "metadata": {},
   "source": [
    "### Thank you for completing this lab!\n",
    "\n",
    "This notebook was created by [Alex Aklson](https://www.linkedin.com/in/aklson/). I hope you found this lab interesting and educational. Feel free to contact me if you have any questions!\n"
   ]
  },
  {
   "cell_type": "markdown",
   "id": "2c11f063-2ed4-4929-92ba-e9b88b59d1f1",
   "metadata": {},
   "source": [
    "\n",
    "## Change Log\n",
    "\n",
    "|  Date (YYYY-MM-DD) |  Version | Changed By  |  Change Description |\n",
    "|---|---|---|---|\n",
    "| 2020-09-21  | 2.0  | Srishti  |  Migrated Lab to Markdown and added to course repo in GitLab |\n",
    "\n",
    "\n",
    "\n",
    "<hr>\n",
    "\n",
    "## <h3 align=\"center\"> © IBM Corporation 2020. All rights reserved. <h3/>\n"
   ]
  },
  {
   "cell_type": "markdown",
   "id": "9f42dc1c-57e7-4292-abe1-71f85dfb4028",
   "metadata": {},
   "source": [
    "This notebook is part of a course on **Coursera** called *Introduction to Deep Learning & Neural Networks with Keras*. If you accessed this notebook outside the course, you can take this course online by clicking [here](https://cocl.us/DL0101EN_Coursera_Week3_LAB1).\n"
   ]
  },
  {
   "cell_type": "markdown",
   "id": "b16509c4-31df-4a6c-87f8-5da6e2037169",
   "metadata": {},
   "source": [
    "<hr>\n",
    "\n",
    "Copyright &copy; 2019 [IBM Developer Skills Network](https://cognitiveclass.ai/?utm_source=bducopyrightlink&utm_medium=dswb&utm_campaign=bdu). This notebook and its source code are released under the terms of the [MIT License](https://bigdatauniversity.com/mit-license/).\n"
   ]
  }
 ],
 "metadata": {
  "kernelspec": {
   "display_name": "Python 3",
   "language": "python",
   "name": "python3"
  },
  "language_info": {
   "codemirror_mode": {
    "name": "ipython",
    "version": 3
   },
   "file_extension": ".py",
   "mimetype": "text/x-python",
   "name": "python",
   "nbconvert_exporter": "python",
   "pygments_lexer": "ipython3",
   "version": "3.11.9"
  },
  "prev_pub_hash": "83687881d337faa1ef19930a5252431ac8ebd74923546c921f47fecec1b0d333"
 },
 "nbformat": 4,
 "nbformat_minor": 4
}
